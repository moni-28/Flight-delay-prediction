{
  "nbformat": 4,
  "nbformat_minor": 0,
  "metadata": {
    "colab": {
      "name": "FLIGHT DELAY PREDICTION USING PYSPARK.ipynb",
      "provenance": [],
      "collapsed_sections": []
    },
    "kernelspec": {
      "name": "python3",
      "display_name": "Python 3"
    },
    "language_info": {
      "name": "python"
    }
  },
  "cells": [
    {
      "cell_type": "code",
      "execution_count": 1,
      "metadata": {
        "colab": {
          "base_uri": "https://localhost:8080/"
        },
        "id": "GdBppZV7HdzP",
        "outputId": "8d3481ff-69dd-44eb-9abd-e1884774b20d"
      },
      "outputs": [
        {
          "output_type": "stream",
          "name": "stdout",
          "text": [
            "Collecting pyspark\n",
            "  Downloading pyspark-3.2.0.tar.gz (281.3 MB)\n",
            "\u001b[K     |████████████████████████████████| 281.3 MB 42 kB/s \n",
            "\u001b[?25hCollecting py4j==0.10.9.2\n",
            "  Downloading py4j-0.10.9.2-py2.py3-none-any.whl (198 kB)\n",
            "\u001b[K     |████████████████████████████████| 198 kB 55.0 MB/s \n",
            "\u001b[?25hBuilding wheels for collected packages: pyspark\n",
            "  Building wheel for pyspark (setup.py) ... \u001b[?25l\u001b[?25hdone\n",
            "  Created wheel for pyspark: filename=pyspark-3.2.0-py2.py3-none-any.whl size=281805912 sha256=b6455bbf9c6d4ec4e46b5102afd24cf8a33edf4ab18d6e18cee4ed0d1adcc3cc\n",
            "  Stored in directory: /root/.cache/pip/wheels/0b/de/d2/9be5d59d7331c6c2a7c1b6d1a4f463ce107332b1ecd4e80718\n",
            "Successfully built pyspark\n",
            "Installing collected packages: py4j, pyspark\n",
            "Successfully installed py4j-0.10.9.2 pyspark-3.2.0\n"
          ]
        }
      ],
      "source": [
        "pip install pyspark"
      ]
    },
    {
      "cell_type": "code",
      "source": [
        "import pyspark\n",
        "from pyspark import SparkContext\n",
        "from pyspark.sql import SQLContext\n",
        "from pyspark.sql.functions import col\n",
        "\n",
        "sc = SparkContext.getOrCreate()\n",
        "sqlCtx = SQLContext(sc)"
      ],
      "metadata": {
        "colab": {
          "base_uri": "https://localhost:8080/"
        },
        "outputId": "f1bbcb12-5576-4c90-ed26-4b7c473df331",
        "id": "0BvQMPBJaful"
      },
      "execution_count": null,
      "outputs": [
        {
          "output_type": "stream",
          "name": "stderr",
          "text": [
            "/usr/local/lib/python3.7/dist-packages/pyspark/sql/context.py:79: FutureWarning: Deprecated in 3.0.0. Use SparkSession.builder.getOrCreate() instead.\n",
            "  FutureWarning\n"
          ]
        }
      ]
    },
    {
      "cell_type": "code",
      "source": [
        "import pandas as pd\n",
        "from matplotlib import pyplot as plt\n",
        "import numpy as np\n",
        "from pyspark.sql.functions import col\n",
        "from pyspark.ml.feature import VectorAssembler \n",
        "from pyspark.mllib.linalg import Vectors\n",
        "from pyspark.mllib.regression import LabeledPoint\n",
        "from pyspark.sql.types import DoubleType\n",
        "from pyspark.ml import Pipeline\n",
        "from pyspark.ml.feature import OneHotEncoder"
      ],
      "metadata": {
        "id": "P8RA_m-BHoRF"
      },
      "execution_count": 2,
      "outputs": []
    },
    {
      "cell_type": "code",
      "source": [
        "flights_df = pd.read_csv(\"/content/flights.csv\")"
      ],
      "metadata": {
        "id": "TcqyfsL3IzQJ"
      },
      "execution_count": 3,
      "outputs": []
    },
    {
      "cell_type": "code",
      "source": [
        "flights_df.isnull().sum()"
      ],
      "metadata": {
        "colab": {
          "base_uri": "https://localhost:8080/"
        },
        "id": "u16FqaNFJCTZ",
        "outputId": "7cdfde70-9529-4a84-9150-7e6c3ef99dc8"
      },
      "execution_count": 4,
      "outputs": [
        {
          "output_type": "execute_result",
          "data": {
            "text/plain": [
              "YEAR                       0\n",
              "MONTH                      0\n",
              "DAY                        0\n",
              "DAY_OF_WEEK                0\n",
              "AIRLINE                    0\n",
              "FLIGHT_NUMBER              0\n",
              "TAIL_NUMBER               25\n",
              "ORIGIN_AIRPORT             0\n",
              "DESTINATION_AIRPORT        0\n",
              "SCHEDULED_DEPARTURE        0\n",
              "DEPARTURE_TIME           568\n",
              "DEPARTURE_DELAY          568\n",
              "TAXI_OUT                 573\n",
              "WHEELS_OFF               573\n",
              "SCHEDULED_TIME             0\n",
              "ELAPSED_TIME             606\n",
              "AIR_TIME                 606\n",
              "DISTANCE                   0\n",
              "WHEELS_ON                583\n",
              "TAXI_IN                  583\n",
              "SCHEDULED_ARRIVAL          0\n",
              "ARRIVAL_TIME             583\n",
              "ARRIVAL_DELAY            607\n",
              "DIVERTED                   1\n",
              "CANCELLED                  1\n",
              "CANCELLATION_REASON    20315\n",
              "AIR_SYSTEM_DELAY       16622\n",
              "SECURITY_DELAY         16622\n",
              "AIRLINE_DELAY          16622\n",
              "LATE_AIRCRAFT_DELAY    16622\n",
              "WEATHER_DELAY          16622\n",
              "dtype: int64"
            ]
          },
          "metadata": {},
          "execution_count": 4
        }
      ]
    },
    {
      "cell_type": "code",
      "source": [
        "flights_agg = flights_df[['MONTH','DAY','DAY_OF_WEEK','AIRLINE','ORIGIN_AIRPORT',\n",
        "                          'SCHEDULED_DEPARTURE','SCHEDULED_TIME',\n",
        "                          'DISTANCE','SCHEDULED_ARRIVAL','DEPARTURE_DELAY']].copy()\n",
        "flights_agg = flights_agg.dropna(axis=0, how = \"any\")"
      ],
      "metadata": {
        "id": "eCOTbgvBJJo4"
      },
      "execution_count": 5,
      "outputs": []
    },
    {
      "cell_type": "code",
      "source": [
        "flights_agg.isnull().sum()"
      ],
      "metadata": {
        "colab": {
          "base_uri": "https://localhost:8080/"
        },
        "id": "ASaD3LdXJOw4",
        "outputId": "8b22731a-4048-40e1-8f5d-c0fa751d0c83"
      },
      "execution_count": 6,
      "outputs": [
        {
          "output_type": "execute_result",
          "data": {
            "text/plain": [
              "MONTH                  0\n",
              "DAY                    0\n",
              "DAY_OF_WEEK            0\n",
              "AIRLINE                0\n",
              "ORIGIN_AIRPORT         0\n",
              "SCHEDULED_DEPARTURE    0\n",
              "SCHEDULED_TIME         0\n",
              "DISTANCE               0\n",
              "SCHEDULED_ARRIVAL      0\n",
              "DEPARTURE_DELAY        0\n",
              "dtype: int64"
            ]
          },
          "metadata": {},
          "execution_count": 6
        }
      ]
    },
    {
      "cell_type": "code",
      "source": [
        "flights_agg['DELAY'] = np.where(flights_agg['DEPARTURE_DELAY'] <= 0, 0, 1)"
      ],
      "metadata": {
        "id": "VdYJCBsFJfkZ"
      },
      "execution_count": 7,
      "outputs": []
    },
    {
      "cell_type": "code",
      "source": [
        "no_delay = (flights_agg['DELAY'] == 0).sum()\n",
        "nobs = len(flights_agg['DELAY'])\n",
        "no_delay_perc = float(no_delay)/nobs\n",
        "delay_perc = 1 - no_delay_perc\n",
        "print(no_delay_perc, delay_perc)"
      ],
      "metadata": {
        "colab": {
          "base_uri": "https://localhost:8080/"
        },
        "id": "9VV4UwqbJgun",
        "outputId": "4dc8be77-81ff-4572-f1eb-e66f8d42f9bb"
      },
      "execution_count": 8,
      "outputs": [
        {
          "output_type": "stream",
          "name": "stdout",
          "text": [
            "0.5859863209171874 0.4140136790828126\n"
          ]
        }
      ]
    },
    {
      "cell_type": "code",
      "source": [
        "delay = nobs - no_delay\n",
        "no_delay_indices = flights_agg[flights_agg.DELAY == 0].index\n",
        "#undersamples no delays to equal same number of delays\n",
        "np.random.seed(5)\n",
        "random_indices = np.random.choice(no_delay_indices, delay, replace=False) \n",
        "no_delay_sample = flights_agg.loc[random_indices]"
      ],
      "metadata": {
        "id": "J6ypCPIkJpjQ"
      },
      "execution_count": 9,
      "outputs": []
    },
    {
      "cell_type": "code",
      "source": [
        "no_delay_sample[:10]"
      ],
      "metadata": {
        "colab": {
          "base_uri": "https://localhost:8080/",
          "height": 407
        },
        "id": "i3sh7KseJxVF",
        "outputId": "94891ba9-94b4-442a-b6f3-2ee11538feef"
      },
      "execution_count": 10,
      "outputs": [
        {
          "output_type": "execute_result",
          "data": {
            "text/html": [
              "\n",
              "  <div id=\"df-408bf574-34dc-4a85-9961-bd421cff0747\">\n",
              "    <div class=\"colab-df-container\">\n",
              "      <div>\n",
              "<style scoped>\n",
              "    .dataframe tbody tr th:only-of-type {\n",
              "        vertical-align: middle;\n",
              "    }\n",
              "\n",
              "    .dataframe tbody tr th {\n",
              "        vertical-align: top;\n",
              "    }\n",
              "\n",
              "    .dataframe thead th {\n",
              "        text-align: right;\n",
              "    }\n",
              "</style>\n",
              "<table border=\"1\" class=\"dataframe\">\n",
              "  <thead>\n",
              "    <tr style=\"text-align: right;\">\n",
              "      <th></th>\n",
              "      <th>MONTH</th>\n",
              "      <th>DAY</th>\n",
              "      <th>DAY_OF_WEEK</th>\n",
              "      <th>AIRLINE</th>\n",
              "      <th>ORIGIN_AIRPORT</th>\n",
              "      <th>SCHEDULED_DEPARTURE</th>\n",
              "      <th>SCHEDULED_TIME</th>\n",
              "      <th>DISTANCE</th>\n",
              "      <th>SCHEDULED_ARRIVAL</th>\n",
              "      <th>DEPARTURE_DELAY</th>\n",
              "      <th>DELAY</th>\n",
              "    </tr>\n",
              "  </thead>\n",
              "  <tbody>\n",
              "    <tr>\n",
              "      <th>9012</th>\n",
              "      <td>1</td>\n",
              "      <td>1</td>\n",
              "      <td>4</td>\n",
              "      <td>DL</td>\n",
              "      <td>MCO</td>\n",
              "      <td>1600</td>\n",
              "      <td>159</td>\n",
              "      <td>957</td>\n",
              "      <td>1839</td>\n",
              "      <td>-1.0</td>\n",
              "      <td>0</td>\n",
              "    </tr>\n",
              "    <tr>\n",
              "      <th>6219</th>\n",
              "      <td>1</td>\n",
              "      <td>1</td>\n",
              "      <td>4</td>\n",
              "      <td>B6</td>\n",
              "      <td>STT</td>\n",
              "      <td>1305</td>\n",
              "      <td>43</td>\n",
              "      <td>68</td>\n",
              "      <td>1348</td>\n",
              "      <td>-13.0</td>\n",
              "      <td>0</td>\n",
              "    </tr>\n",
              "    <tr>\n",
              "      <th>1341</th>\n",
              "      <td>1</td>\n",
              "      <td>1</td>\n",
              "      <td>4</td>\n",
              "      <td>B6</td>\n",
              "      <td>TPA</td>\n",
              "      <td>735</td>\n",
              "      <td>124</td>\n",
              "      <td>814</td>\n",
              "      <td>939</td>\n",
              "      <td>-16.0</td>\n",
              "      <td>0</td>\n",
              "    </tr>\n",
              "    <tr>\n",
              "      <th>6080</th>\n",
              "      <td>1</td>\n",
              "      <td>1</td>\n",
              "      <td>4</td>\n",
              "      <td>UA</td>\n",
              "      <td>IAH</td>\n",
              "      <td>1259</td>\n",
              "      <td>150</td>\n",
              "      <td>862</td>\n",
              "      <td>1429</td>\n",
              "      <td>0.0</td>\n",
              "      <td>0</td>\n",
              "    </tr>\n",
              "    <tr>\n",
              "      <th>1938</th>\n",
              "      <td>1</td>\n",
              "      <td>1</td>\n",
              "      <td>4</td>\n",
              "      <td>EV</td>\n",
              "      <td>FSD</td>\n",
              "      <td>820</td>\n",
              "      <td>109</td>\n",
              "      <td>483</td>\n",
              "      <td>909</td>\n",
              "      <td>-7.0</td>\n",
              "      <td>0</td>\n",
              "    </tr>\n",
              "    <tr>\n",
              "      <th>726</th>\n",
              "      <td>1</td>\n",
              "      <td>1</td>\n",
              "      <td>4</td>\n",
              "      <td>DL</td>\n",
              "      <td>SNA</td>\n",
              "      <td>645</td>\n",
              "      <td>256</td>\n",
              "      <td>1919</td>\n",
              "      <td>1401</td>\n",
              "      <td>-4.0</td>\n",
              "      <td>0</td>\n",
              "    </tr>\n",
              "    <tr>\n",
              "      <th>1035</th>\n",
              "      <td>1</td>\n",
              "      <td>1</td>\n",
              "      <td>4</td>\n",
              "      <td>UA</td>\n",
              "      <td>LAS</td>\n",
              "      <td>710</td>\n",
              "      <td>179</td>\n",
              "      <td>1222</td>\n",
              "      <td>1209</td>\n",
              "      <td>-3.0</td>\n",
              "      <td>0</td>\n",
              "    </tr>\n",
              "    <tr>\n",
              "      <th>18505</th>\n",
              "      <td>1</td>\n",
              "      <td>2</td>\n",
              "      <td>5</td>\n",
              "      <td>DL</td>\n",
              "      <td>STL</td>\n",
              "      <td>945</td>\n",
              "      <td>94</td>\n",
              "      <td>484</td>\n",
              "      <td>1219</td>\n",
              "      <td>-4.0</td>\n",
              "      <td>0</td>\n",
              "    </tr>\n",
              "    <tr>\n",
              "      <th>1197</th>\n",
              "      <td>1</td>\n",
              "      <td>1</td>\n",
              "      <td>4</td>\n",
              "      <td>WN</td>\n",
              "      <td>PIT</td>\n",
              "      <td>725</td>\n",
              "      <td>170</td>\n",
              "      <td>966</td>\n",
              "      <td>1015</td>\n",
              "      <td>0.0</td>\n",
              "      <td>0</td>\n",
              "    </tr>\n",
              "    <tr>\n",
              "      <th>13113</th>\n",
              "      <td>1</td>\n",
              "      <td>1</td>\n",
              "      <td>4</td>\n",
              "      <td>OO</td>\n",
              "      <td>SEA</td>\n",
              "      <td>2055</td>\n",
              "      <td>63</td>\n",
              "      <td>224</td>\n",
              "      <td>2158</td>\n",
              "      <td>-8.0</td>\n",
              "      <td>0</td>\n",
              "    </tr>\n",
              "  </tbody>\n",
              "</table>\n",
              "</div>\n",
              "      <button class=\"colab-df-convert\" onclick=\"convertToInteractive('df-408bf574-34dc-4a85-9961-bd421cff0747')\"\n",
              "              title=\"Convert this dataframe to an interactive table.\"\n",
              "              style=\"display:none;\">\n",
              "        \n",
              "  <svg xmlns=\"http://www.w3.org/2000/svg\" height=\"24px\"viewBox=\"0 0 24 24\"\n",
              "       width=\"24px\">\n",
              "    <path d=\"M0 0h24v24H0V0z\" fill=\"none\"/>\n",
              "    <path d=\"M18.56 5.44l.94 2.06.94-2.06 2.06-.94-2.06-.94-.94-2.06-.94 2.06-2.06.94zm-11 1L8.5 8.5l.94-2.06 2.06-.94-2.06-.94L8.5 2.5l-.94 2.06-2.06.94zm10 10l.94 2.06.94-2.06 2.06-.94-2.06-.94-.94-2.06-.94 2.06-2.06.94z\"/><path d=\"M17.41 7.96l-1.37-1.37c-.4-.4-.92-.59-1.43-.59-.52 0-1.04.2-1.43.59L10.3 9.45l-7.72 7.72c-.78.78-.78 2.05 0 2.83L4 21.41c.39.39.9.59 1.41.59.51 0 1.02-.2 1.41-.59l7.78-7.78 2.81-2.81c.8-.78.8-2.07 0-2.86zM5.41 20L4 18.59l7.72-7.72 1.47 1.35L5.41 20z\"/>\n",
              "  </svg>\n",
              "      </button>\n",
              "      \n",
              "  <style>\n",
              "    .colab-df-container {\n",
              "      display:flex;\n",
              "      flex-wrap:wrap;\n",
              "      gap: 12px;\n",
              "    }\n",
              "\n",
              "    .colab-df-convert {\n",
              "      background-color: #E8F0FE;\n",
              "      border: none;\n",
              "      border-radius: 50%;\n",
              "      cursor: pointer;\n",
              "      display: none;\n",
              "      fill: #1967D2;\n",
              "      height: 32px;\n",
              "      padding: 0 0 0 0;\n",
              "      width: 32px;\n",
              "    }\n",
              "\n",
              "    .colab-df-convert:hover {\n",
              "      background-color: #E2EBFA;\n",
              "      box-shadow: 0px 1px 2px rgba(60, 64, 67, 0.3), 0px 1px 3px 1px rgba(60, 64, 67, 0.15);\n",
              "      fill: #174EA6;\n",
              "    }\n",
              "\n",
              "    [theme=dark] .colab-df-convert {\n",
              "      background-color: #3B4455;\n",
              "      fill: #D2E3FC;\n",
              "    }\n",
              "\n",
              "    [theme=dark] .colab-df-convert:hover {\n",
              "      background-color: #434B5C;\n",
              "      box-shadow: 0px 1px 3px 1px rgba(0, 0, 0, 0.15);\n",
              "      filter: drop-shadow(0px 1px 2px rgba(0, 0, 0, 0.3));\n",
              "      fill: #FFFFFF;\n",
              "    }\n",
              "  </style>\n",
              "\n",
              "      <script>\n",
              "        const buttonEl =\n",
              "          document.querySelector('#df-408bf574-34dc-4a85-9961-bd421cff0747 button.colab-df-convert');\n",
              "        buttonEl.style.display =\n",
              "          google.colab.kernel.accessAllowed ? 'block' : 'none';\n",
              "\n",
              "        async function convertToInteractive(key) {\n",
              "          const element = document.querySelector('#df-408bf574-34dc-4a85-9961-bd421cff0747');\n",
              "          const dataTable =\n",
              "            await google.colab.kernel.invokeFunction('convertToInteractive',\n",
              "                                                     [key], {});\n",
              "          if (!dataTable) return;\n",
              "\n",
              "          const docLinkHtml = 'Like what you see? Visit the ' +\n",
              "            '<a target=\"_blank\" href=https://colab.research.google.com/notebooks/data_table.ipynb>data table notebook</a>'\n",
              "            + ' to learn more about interactive tables.';\n",
              "          element.innerHTML = '';\n",
              "          dataTable['output_type'] = 'display_data';\n",
              "          await google.colab.output.renderOutput(dataTable, element);\n",
              "          const docLink = document.createElement('div');\n",
              "          docLink.innerHTML = docLinkHtml;\n",
              "          element.appendChild(docLink);\n",
              "        }\n",
              "      </script>\n",
              "    </div>\n",
              "  </div>\n",
              "  "
            ],
            "text/plain": [
              "       MONTH  DAY  DAY_OF_WEEK  ... SCHEDULED_ARRIVAL DEPARTURE_DELAY  DELAY\n",
              "9012       1    1            4  ...              1839            -1.0      0\n",
              "6219       1    1            4  ...              1348           -13.0      0\n",
              "1341       1    1            4  ...               939           -16.0      0\n",
              "6080       1    1            4  ...              1429             0.0      0\n",
              "1938       1    1            4  ...               909            -7.0      0\n",
              "726        1    1            4  ...              1401            -4.0      0\n",
              "1035       1    1            4  ...              1209            -3.0      0\n",
              "18505      1    2            5  ...              1219            -4.0      0\n",
              "1197       1    1            4  ...              1015             0.0      0\n",
              "13113      1    1            4  ...              2158            -8.0      0\n",
              "\n",
              "[10 rows x 11 columns]"
            ]
          },
          "metadata": {},
          "execution_count": 10
        }
      ]
    },
    {
      "cell_type": "code",
      "source": [
        "delay_sample = flights_agg[flights_agg.DELAY == 1] \n",
        "flights_agg_balanced = delay_sample.append(no_delay_sample)"
      ],
      "metadata": {
        "id": "Rv721kTCJzKJ"
      },
      "execution_count": 11,
      "outputs": []
    },
    {
      "cell_type": "code",
      "source": [
        "n = int(len(flights_agg_balanced)*0.10)\n",
        "flights_new_bal = flights_agg_balanced.sample(n, random_state = 314)"
      ],
      "metadata": {
        "id": "ttRbeGyiJ9LW"
      },
      "execution_count": 12,
      "outputs": []
    },
    {
      "cell_type": "code",
      "source": [
        "no_delay_bal = (flights_new_bal['DELAY'] == 0).sum()\n",
        "no_delay_perc_bal = float(no_delay_bal)/n\n",
        "delay_perc_bal = 1 - no_delay_perc_bal\n",
        "print(no_delay_perc_bal, delay_perc_bal)"
      ],
      "metadata": {
        "colab": {
          "base_uri": "https://localhost:8080/"
        },
        "id": "NnfZJ41UKBZl",
        "outputId": "b91e28a9-7e86-4314-a952-f4ddd99c939a"
      },
      "execution_count": 13,
      "outputs": [
        {
          "output_type": "stream",
          "name": "stdout",
          "text": [
            "0.5112960760998811 0.48870392390011885\n"
          ]
        }
      ]
    },
    {
      "cell_type": "code",
      "source": [
        "flights = pd.read_csv(\"/content/flights.csv\")"
      ],
      "metadata": {
        "colab": {
          "base_uri": "https://localhost:8080/"
        },
        "id": "Cl39us8ga0Nx",
        "outputId": "89b8fdbd-f6ab-4517-ae9b-6939b7e1eb63"
      },
      "execution_count": 93,
      "outputs": [
        {
          "output_type": "stream",
          "name": "stderr",
          "text": [
            "/usr/local/lib/python3.7/dist-packages/IPython/core/interactiveshell.py:2718: DtypeWarning: Columns (7,8) have mixed types.Specify dtype option on import or set low_memory=False.\n",
            "  interactivity=interactivity, compiler=compiler, result=result)\n"
          ]
        }
      ]
    },
    {
      "cell_type": "code",
      "source": [
        "# Flights over time\n",
        "flights = flights.assign(DATE=pd.to_datetime(flights[['YEAR','MONTH','DAY']]))\n",
        "\n",
        "flights['DATE'].value_counts().plot()\n",
        "plt.xlabel('Dates')\n",
        "plt.ylabel(\"Number of Flights\")\n",
        "plt.title(\"Flights Over Time\")"
      ],
      "metadata": {
        "colab": {
          "base_uri": "https://localhost:8080/",
          "height": 310
        },
        "id": "hdM3kMj_cGGW",
        "outputId": "a6771c19-6484-414f-ff92-f20d7f31b242"
      },
      "execution_count": 97,
      "outputs": [
        {
          "output_type": "execute_result",
          "data": {
            "text/plain": [
              "Text(0.5, 1.0, 'Flights Over Time')"
            ]
          },
          "metadata": {},
          "execution_count": 97
        },
        {
          "output_type": "display_data",
          "data": {
            "image/png": "[encoded data removed]",
            "text/plain": [
              "<Figure size 432x288 with 1 Axes>"
            ]
          },
          "metadata": {
            "needs_background": "light"
          }
        }
      ]
    },
    {
      "cell_type": "code",
      "source": [
        "# Delays over time\n",
        "flightsD = flightsDelays.assign(DATE=pd.to_datetime(flightsDelays[['YEAR','MONTH','DAY']]))\n",
        "\n",
        "flightsD['DATE'].value_counts().plot()\n",
        "plt.xlabel('Dates')\n",
        "plt.ylabel(\"Number of Flights\")\n",
        "plt.title(\"Delays Over Time\")"
      ],
      "metadata": {
        "colab": {
          "base_uri": "https://localhost:8080/",
          "height": 310
        },
        "id": "F9XNNT_rcIcg",
        "outputId": "3a5330df-1c67-4d1c-931e-3c04bd09cede"
      },
      "execution_count": 98,
      "outputs": [
        {
          "output_type": "execute_result",
          "data": {
            "text/plain": [
              "Text(0.5, 1.0, 'Delays Over Time')"
            ]
          },
          "metadata": {},
          "execution_count": 98
        },
        {
          "output_type": "display_data",
          "data": {
            "image/png": "[encoded data removed]",
            "text/plain": [
              "<Figure size 432x288 with 1 Axes>"
            ]
          },
          "metadata": {
            "needs_background": "light"
          }
        }
      ]
    },
    {
      "cell_type": "code",
      "source": [
        "flight_df = sqlCtx.createDataFrame(flights_new_bal)\n",
        "flight_df.show(5)"
      ],
      "metadata": {
        "colab": {
          "base_uri": "https://localhost:8080/"
        },
        "id": "MSeu8BaJLuOc",
        "outputId": "ed1bf5ff-8fc3-49d8-8a83-de08f8447bdf"
      },
      "execution_count": 18,
      "outputs": [
        {
          "output_type": "stream",
          "name": "stdout",
          "text": [
            "+-----+---+-----------+-------+--------------+-------------------+--------------+--------+-----------------+---------------+-----+\n",
            "|MONTH|DAY|DAY_OF_WEEK|AIRLINE|ORIGIN_AIRPORT|SCHEDULED_DEPARTURE|SCHEDULED_TIME|DISTANCE|SCHEDULED_ARRIVAL|DEPARTURE_DELAY|DELAY|\n",
            "+-----+---+-----------+-------+--------------+-------------------+--------------+--------+-----------------+---------------+-----+\n",
            "|    1|  2|          5|     DL|           DTW|                835|           310|    1927|             1045|            0.0|    0|\n",
            "|    1|  1|          4|     DL|           BOS|               1000|           205|    1124|             1225|            4.0|    1|\n",
            "|    1|  1|          4|     DL|           LGA|               1000|           176|     762|             1256|            0.0|    0|\n",
            "|    1|  1|          4|     UA|           IAH|                920|           513|    3904|             1353|           42.0|    1|\n",
            "|    1|  1|          4|     UA|           LAS|               1303|           182|    1222|             1805|           23.0|    1|\n",
            "+-----+---+-----------+-------+--------------+-------------------+--------------+--------+-----------------+---------------+-----+\n",
            "only showing top 5 rows\n",
            "\n"
          ]
        }
      ]
    },
    {
      "cell_type": "code",
      "source": [
        "flight_df.write.parquet(\"flight_df.parquet\")"
      ],
      "metadata": {
        "id": "BY9TRqqJMfWb"
      },
      "execution_count": 20,
      "outputs": []
    },
    {
      "cell_type": "code",
      "source": [
        "flight_df = sqlCtx.read.parquet(\"/content/flight_df.parquet\")"
      ],
      "metadata": {
        "id": "ba__L9H_M7sX"
      },
      "execution_count": 22,
      "outputs": []
    },
    {
      "cell_type": "code",
      "source": [
        "flight_df.show(4)"
      ],
      "metadata": {
        "colab": {
          "base_uri": "https://localhost:8080/"
        },
        "id": "y-Wl9yaUNDWW",
        "outputId": "808259de-0519-4d7f-89ba-adee8fb331b5"
      },
      "execution_count": 23,
      "outputs": [
        {
          "output_type": "stream",
          "name": "stdout",
          "text": [
            "+-----+---+-----------+-------+--------------+-------------------+--------------+--------+-----------------+---------------+-----+\n",
            "|MONTH|DAY|DAY_OF_WEEK|AIRLINE|ORIGIN_AIRPORT|SCHEDULED_DEPARTURE|SCHEDULED_TIME|DISTANCE|SCHEDULED_ARRIVAL|DEPARTURE_DELAY|DELAY|\n",
            "+-----+---+-----------+-------+--------------+-------------------+--------------+--------+-----------------+---------------+-----+\n",
            "|    1|  2|          5|     DL|           DTW|                835|           310|    1927|             1045|            0.0|    0|\n",
            "|    1|  1|          4|     DL|           BOS|               1000|           205|    1124|             1225|            4.0|    1|\n",
            "|    1|  1|          4|     DL|           LGA|               1000|           176|     762|             1256|            0.0|    0|\n",
            "|    1|  1|          4|     UA|           IAH|                920|           513|    3904|             1353|           42.0|    1|\n",
            "+-----+---+-----------+-------+--------------+-------------------+--------------+--------+-----------------+---------------+-----+\n",
            "only showing top 4 rows\n",
            "\n"
          ]
        }
      ]
    },
    {
      "cell_type": "code",
      "source": [
        "# Use OneHotEncoder to map categorical variables to binary vectors\n",
        "cat_columns = ['MONTH','DAY','DAY_OF_WEEK']\n",
        "encoders = [OneHotEncoder(inputCol=column, outputCol=column+\"_vec\") for column in cat_columns]\n",
        "pipelineOHE = Pipeline(stages=encoders)\n",
        "flight_df2 = pipelineOHE.fit(flight_df).transform(flight_df)"
      ],
      "metadata": {
        "id": "zu9e1bwMNFmv"
      },
      "execution_count": 27,
      "outputs": []
    },
    {
      "cell_type": "code",
      "source": [
        "flight_df2.show(2)"
      ],
      "metadata": {
        "colab": {
          "base_uri": "https://localhost:8080/"
        },
        "id": "kCq9Oq3PNM-P",
        "outputId": "cd691683-1925-48b2-e9a8-30e932d9c2b5"
      },
      "execution_count": 28,
      "outputs": [
        {
          "output_type": "stream",
          "name": "stdout",
          "text": [
            "+-----+---+-----------+-------+--------------+-------------------+--------------+--------+-----------------+---------------+-----+---------+-------------+---------------+\n",
            "|MONTH|DAY|DAY_OF_WEEK|AIRLINE|ORIGIN_AIRPORT|SCHEDULED_DEPARTURE|SCHEDULED_TIME|DISTANCE|SCHEDULED_ARRIVAL|DEPARTURE_DELAY|DELAY|MONTH_vec|      DAY_vec|DAY_OF_WEEK_vec|\n",
            "+-----+---+-----------+-------+--------------+-------------------+--------------+--------+-----------------+---------------+-----+---------+-------------+---------------+\n",
            "|    1|  2|          5|     DL|           DTW|                835|           310|    1927|             1045|            0.0|    0|(1,[],[])|    (2,[],[])|      (5,[],[])|\n",
            "|    1|  1|          4|     DL|           BOS|               1000|           205|    1124|             1225|            4.0|    1|(1,[],[])|(2,[1],[1.0])|  (5,[4],[1.0])|\n",
            "+-----+---+-----------+-------+--------------+-------------------+--------------+--------+-----------------+---------------+-----+---------+-------------+---------------+\n",
            "only showing top 2 rows\n",
            "\n"
          ]
        }
      ]
    },
    {
      "cell_type": "code",
      "source": [
        "assembler = VectorAssembler(inputCols=['MONTH_vec', 'DAY_vec', 'DAY_OF_WEEK_vec',\n",
        "                                       'SCHEDULED_DEPARTURE', 'SCHEDULED_TIME', 'DISTANCE', \n",
        "                                       'SCHEDULED_ARRIVAL'], outputCol=\"features\")"
      ],
      "metadata": {
        "id": "jfbbZPOFNfge"
      },
      "execution_count": 29,
      "outputs": []
    },
    {
      "cell_type": "code",
      "source": [
        "# Apply vector assembler to data\n",
        "transformed = assembler.transform(flight_df2)"
      ],
      "metadata": {
        "id": "FGt-lbIGN4KV"
      },
      "execution_count": 30,
      "outputs": []
    },
    {
      "cell_type": "code",
      "source": [
        "transformed.select(['DELAY', 'features']).show(5)"
      ],
      "metadata": {
        "colab": {
          "base_uri": "https://localhost:8080/"
        },
        "id": "K4_E-D0WN759",
        "outputId": "5fbab91d-bd4b-4789-ff93-f4fdf78a3ec8"
      },
      "execution_count": 31,
      "outputs": [
        {
          "output_type": "stream",
          "name": "stdout",
          "text": [
            "+-----+--------------------+\n",
            "|DELAY|            features|\n",
            "+-----+--------------------+\n",
            "|    0|(12,[8,9,10,11],[...|\n",
            "|    1|(12,[2,7,8,9,10,1...|\n",
            "|    0|(12,[2,7,8,9,10,1...|\n",
            "|    1|(12,[2,7,8,9,10,1...|\n",
            "|    1|(12,[2,7,8,9,10,1...|\n",
            "+-----+--------------------+\n",
            "only showing top 5 rows\n",
            "\n"
          ]
        }
      ]
    },
    {
      "cell_type": "code",
      "source": [
        "# Convert to RDD\n",
        "dataRDD = transformed.select(['DELAY','features']).rdd.map(tuple)"
      ],
      "metadata": {
        "id": "0MK2lyd2OEpE"
      },
      "execution_count": 32,
      "outputs": []
    },
    {
      "cell_type": "code",
      "source": [
        "# Map label to binary values, then convert to LabeledPoint\n",
        "lp = dataRDD.map(lambda row : (0 if row[0] == 0 else 1, Vectors.dense(row[1])))    \\\n",
        "            .map(lambda row : LabeledPoint(row[0], row[1]))"
      ],
      "metadata": {
        "id": "msdFNzhKOGqk"
      },
      "execution_count": 33,
      "outputs": []
    },
    {
      "cell_type": "code",
      "source": [
        "lp.take(5)"
      ],
      "metadata": {
        "colab": {
          "base_uri": "https://localhost:8080/"
        },
        "id": "z9QAu7XQOMJU",
        "outputId": "a7123e9c-f005-477f-f3e0-c658a6d5b963"
      },
      "execution_count": 34,
      "outputs": [
        {
          "output_type": "execute_result",
          "data": {
            "text/plain": [
              "[LabeledPoint(0.0, [0.0,0.0,0.0,0.0,0.0,0.0,0.0,0.0,835.0,310.0,1927.0,1045.0]),\n",
              " LabeledPoint(1.0, [0.0,0.0,1.0,0.0,0.0,0.0,0.0,1.0,1000.0,205.0,1124.0,1225.0]),\n",
              " LabeledPoint(0.0, [0.0,0.0,1.0,0.0,0.0,0.0,0.0,1.0,1000.0,176.0,762.0,1256.0]),\n",
              " LabeledPoint(1.0, [0.0,0.0,1.0,0.0,0.0,0.0,0.0,1.0,920.0,513.0,3904.0,1353.0]),\n",
              " LabeledPoint(1.0, [0.0,0.0,1.0,0.0,0.0,0.0,0.0,1.0,1303.0,182.0,1222.0,1805.0])]"
            ]
          },
          "metadata": {},
          "execution_count": 34
        }
      ]
    },
    {
      "cell_type": "code",
      "source": [
        "split = lp.randomSplit([0.8, 0.2], 314)\n",
        "training = split[0]\n",
        "test = split[1]"
      ],
      "metadata": {
        "id": "Jkprx-mcOQQl"
      },
      "execution_count": 35,
      "outputs": []
    },
    {
      "cell_type": "markdown",
      "source": [
        "LOGISTIC REGRESSION"
      ],
      "metadata": {
        "id": "sr-BNA2QeUe8"
      }
    },
    {
      "cell_type": "code",
      "source": [
        "from pyspark.mllib.classification import LogisticRegressionWithLBFGS, LogisticRegressionModel"
      ],
      "metadata": {
        "id": "vWON1e3IOWnV"
      },
      "execution_count": 36,
      "outputs": []
    },
    {
      "cell_type": "code",
      "source": [
        "# Build model\n",
        "LR_model = LogisticRegressionWithLBFGS.train(training)"
      ],
      "metadata": {
        "id": "rhFWPMDlPMyj"
      },
      "execution_count": 37,
      "outputs": []
    },
    {
      "cell_type": "code",
      "source": [
        "# Evaluate model on training data\n",
        "LR_LAPtrain = training.map(lambda lp: (float(LR_model.predict(lp.features)), lp.label))"
      ],
      "metadata": {
        "id": "7Jzw32ciPRqD"
      },
      "execution_count": 38,
      "outputs": []
    },
    {
      "cell_type": "code",
      "source": [
        "# Print training accuracy\n",
        "LR_accTrain = 1.0 * LR_LAPtrain.filter(lambda x:x[0] == x[1]).count()/training.count()\n",
        "print(LR_accTrain)"
      ],
      "metadata": {
        "colab": {
          "base_uri": "https://localhost:8080/"
        },
        "id": "DxLeW7vdPZDc",
        "outputId": "c8aee292-0ad8-45ed-a66a-f268afe919fb"
      },
      "execution_count": 39,
      "outputs": [
        {
          "output_type": "stream",
          "name": "stdout",
          "text": [
            "0.5898583146905294\n"
          ]
        }
      ]
    },
    {
      "cell_type": "code",
      "source": [
        "# Evaluate model on test data\n",
        "LR_LAP = test.map(lambda lp: (float(LR_model.predict(lp.features)), lp.label))"
      ],
      "metadata": {
        "id": "B9aQEvz3PbR6"
      },
      "execution_count": 40,
      "outputs": []
    },
    {
      "cell_type": "code",
      "source": [
        "# Print test accuracy\n",
        "LR_acc = 1.0 * LR_LAP.filter(lambda x:x[0] == x[1]).count()/test.count()\n",
        "print(LR_acc)"
      ],
      "metadata": {
        "colab": {
          "base_uri": "https://localhost:8080/"
        },
        "id": "ucsTE-PSPej7",
        "outputId": "d91e2693-8691-478f-88d8-4d80ae7db0ab"
      },
      "execution_count": 41,
      "outputs": [
        {
          "output_type": "stream",
          "name": "stdout",
          "text": [
            "0.6129032258064516\n"
          ]
        }
      ]
    },
    {
      "cell_type": "markdown",
      "source": [
        "RANDOM FOREST"
      ],
      "metadata": {
        "id": "UN0GpWgdeaaz"
      }
    },
    {
      "cell_type": "code",
      "source": [
        "from pyspark.mllib.tree import RandomForest, RandomForestModel\n",
        "from pyspark.mllib.util import MLUtils\n",
        "from pyspark.ml.feature import StringIndexer\n",
        "from pyspark.ml.classification import RandomForestClassifier"
      ],
      "metadata": {
        "id": "Ah1XV9LwP-Vq"
      },
      "execution_count": 42,
      "outputs": []
    },
    {
      "cell_type": "code",
      "source": [
        "# Build model\n",
        "RF_model = RandomForest.trainClassifier(training, numClasses = 2,\n",
        "                                       categoricalFeaturesInfo = {}, \n",
        "                                       numTrees = 5, featureSubsetStrategy = \"auto\", \n",
        "                                       impurity = 'gini', maxDepth = 4, maxBins = 32)"
      ],
      "metadata": {
        "id": "SSxfEJ4nQba4"
      },
      "execution_count": 43,
      "outputs": []
    },
    {
      "cell_type": "code",
      "source": [
        "# Evaluate model on training data\n",
        "RF_predtrain = RF_model.predict(training.map(lambda x: x.features))\n",
        "RF_LAPtrain = training.map(lambda lp: lp.label).zip(RF_predtrain)"
      ],
      "metadata": {
        "id": "H7QzW14HQfyh"
      },
      "execution_count": 44,
      "outputs": []
    },
    {
      "cell_type": "code",
      "source": [
        "# Print training accuracy\n",
        "RF_trainAcc = RF_LAPtrain.filter(lambda x: x[0] == x[1]).count() / float(training.count())\n",
        "print(RF_trainAcc)"
      ],
      "metadata": {
        "colab": {
          "base_uri": "https://localhost:8080/"
        },
        "id": "SBxwueAEQjcY",
        "outputId": "4cc138a0-4bb8-4243-fff9-13a38c8b6332"
      },
      "execution_count": 45,
      "outputs": [
        {
          "output_type": "stream",
          "name": "stdout",
          "text": [
            "0.6167039522744221\n"
          ]
        }
      ]
    },
    {
      "cell_type": "code",
      "source": [
        "# Evaluate model on test data\n",
        "RF_pred = RF_model.predict(test.map(lambda x: x.features))\n",
        "RF_LAP = test.map(lambda lp: lp.label).zip(RF_pred)"
      ],
      "metadata": {
        "id": "B21JUcnKWz1Z"
      },
      "execution_count": 83,
      "outputs": []
    },
    {
      "cell_type": "code",
      "source": [
        "# Print test accuracy\n",
        "RF_testAcc = RF_LAP.filter(lambda x: x[0] == x[1]).count() / float(test.count())\n",
        "print(RF_testAcc)"
      ],
      "metadata": {
        "colab": {
          "base_uri": "https://localhost:8080/"
        },
        "id": "T5p0ndM1XKkq",
        "outputId": "ee6f08ea-8de9-4409-86cf-4747401b236d"
      },
      "execution_count": 84,
      "outputs": [
        {
          "output_type": "stream",
          "name": "stdout",
          "text": [
            "0.5513196480938416\n"
          ]
        }
      ]
    },
    {
      "cell_type": "markdown",
      "source": [
        "CROSS VALIDATION"
      ],
      "metadata": {
        "id": "8Btuw-iwenea"
      }
    },
    {
      "cell_type": "code",
      "source": [
        "# Prepare data for modeling\n",
        "flight_cv = transformed.select(['DELAY', 'features'])\n",
        "flight_cv = flight_cv.withColumnRenamed('DELAY', 'label')\n",
        "flight_cv = flight_cv.select(flight_cv.label.cast(DoubleType()).alias('label'), \n",
        "                                 'features')\n",
        "flight_cv.show(5)"
      ],
      "metadata": {
        "colab": {
          "base_uri": "https://localhost:8080/"
        },
        "id": "vkIvdIHDRaXF",
        "outputId": "e4d41308-5552-4797-ad75-12517e5b6d6b"
      },
      "execution_count": 56,
      "outputs": [
        {
          "output_type": "stream",
          "name": "stdout",
          "text": [
            "+-----+--------------------+\n",
            "|label|            features|\n",
            "+-----+--------------------+\n",
            "|  0.0|(12,[8,9,10,11],[...|\n",
            "|  1.0|(12,[2,7,8,9,10,1...|\n",
            "|  0.0|(12,[2,7,8,9,10,1...|\n",
            "|  1.0|(12,[2,7,8,9,10,1...|\n",
            "|  1.0|(12,[2,7,8,9,10,1...|\n",
            "+-----+--------------------+\n",
            "only showing top 5 rows\n",
            "\n"
          ]
        }
      ]
    },
    {
      "cell_type": "code",
      "source": [
        "train_cv, test_cv = flight_cv.randomSplit([0.8, 0.2], 314)"
      ],
      "metadata": {
        "id": "hZvqs3r2Rh0d"
      },
      "execution_count": 57,
      "outputs": []
    },
    {
      "cell_type": "code",
      "source": [
        "from pyspark.ml.classification import LogisticRegression\n",
        "from pyspark.ml.evaluation import BinaryClassificationEvaluator\n",
        "from pyspark.ml.tuning import CrossValidator, ParamGridBuilder"
      ],
      "metadata": {
        "id": "_TMV3-NxRlYl"
      },
      "execution_count": 58,
      "outputs": []
    },
    {
      "cell_type": "code",
      "source": [
        "# Build model\n",
        "lr_k = LogisticRegression()"
      ],
      "metadata": {
        "id": "mRc5plc8Rn4N"
      },
      "execution_count": 59,
      "outputs": []
    },
    {
      "cell_type": "code",
      "source": [
        "# Create grid of parameters\n",
        "grid_k = ParamGridBuilder().addGrid(lr_k.maxIter, [0, 1, 5, 10, 25]) \\\n",
        "                           .addGrid(lr_k.regParam, [0.1,0.01]) \\\n",
        "                           .addGrid(lr_k.fitIntercept, [False, True])\\\n",
        "                           .addGrid(lr_k.elasticNetParam, [0.0,0.3, 0.5,0.8, 1.0])\\\n",
        "                           .build()"
      ],
      "metadata": {
        "id": "m8TY9dJ5RrqM"
      },
      "execution_count": 60,
      "outputs": []
    },
    {
      "cell_type": "code",
      "source": [
        "evaluator_k = BinaryClassificationEvaluator()"
      ],
      "metadata": {
        "id": "Dx8XylS3Rxd0"
      },
      "execution_count": 61,
      "outputs": []
    },
    {
      "cell_type": "code",
      "source": [
        "cv_lr = CrossValidator(estimator = lr_k, estimatorParamMaps = grid_k, evaluator = evaluator_k)"
      ],
      "metadata": {
        "id": "x6YK51goRy4U"
      },
      "execution_count": 62,
      "outputs": []
    },
    {
      "cell_type": "code",
      "source": [
        "# Run cross-validation\n",
        "cvmodel_lr = cv_lr.fit(train_cv)"
      ],
      "metadata": {
        "id": "wF4JqUl1R3ak"
      },
      "execution_count": 64,
      "outputs": []
    },
    {
      "cell_type": "code",
      "source": [
        "# Evaluate tuned model on training data\n",
        "evaluator_k.evaluate(cvmodel_lr.transform(train_cv))"
      ],
      "metadata": {
        "colab": {
          "base_uri": "https://localhost:8080/"
        },
        "id": "_imyvGnQUArv",
        "outputId": "fc0342cb-c1d9-4995-ebb1-dcb6c622dd8f"
      },
      "execution_count": 65,
      "outputs": [
        {
          "output_type": "execute_result",
          "data": {
            "text/plain": [
              "0.6401754040204967"
            ]
          },
          "metadata": {},
          "execution_count": 65
        }
      ]
    },
    {
      "cell_type": "code",
      "source": [
        "# Evaluate tuned model on test data\n",
        "evaluator_k.evaluate(cvmodel_lr.transform(test_cv))"
      ],
      "metadata": {
        "colab": {
          "base_uri": "https://localhost:8080/"
        },
        "id": "YqBmO_4sUEn3",
        "outputId": "2224da4e-bd7c-41bf-b112-9f600c7e0499"
      },
      "execution_count": 66,
      "outputs": [
        {
          "output_type": "execute_result",
          "data": {
            "text/plain": [
              "0.6146659497244257"
            ]
          },
          "metadata": {},
          "execution_count": 66
        }
      ]
    },
    {
      "cell_type": "code",
      "source": [
        "from pyspark.ml.evaluation import MulticlassClassificationEvaluator\n",
        "from pyspark.ml.feature import VectorIndexer, IndexToString"
      ],
      "metadata": {
        "id": "oABGie9lUGJ4"
      },
      "execution_count": 67,
      "outputs": []
    },
    {
      "cell_type": "code",
      "source": [
        "labelIndexer = StringIndexer(inputCol = \"label\", \n",
        "                             outputCol = \"indexedLabel\").fit(flight_cv)"
      ],
      "metadata": {
        "id": "VudkSRR_ULQP"
      },
      "execution_count": 68,
      "outputs": []
    },
    {
      "cell_type": "code",
      "source": [
        "featureIndexer = VectorIndexer(inputCol=\"features\", \n",
        "                              outputCol=\"indexedFeatures\", \n",
        "                              maxCategories=4).fit(flight_cv)"
      ],
      "metadata": {
        "id": "rW0FitJ6UNh_"
      },
      "execution_count": 69,
      "outputs": []
    },
    {
      "cell_type": "code",
      "source": [
        "labelConverter = IndexToString(inputCol=\"prediction\",\n",
        "                               outputCol=\"predictedLabel\", \n",
        "                               labels=labelIndexer.labels)"
      ],
      "metadata": {
        "id": "k5TONHGEURjJ"
      },
      "execution_count": 70,
      "outputs": []
    },
    {
      "cell_type": "code",
      "source": [
        "rf_k = RandomForestClassifier(labelCol = \"indexedLabel\", \n",
        "                              featuresCol = \"indexedFeatures\")"
      ],
      "metadata": {
        "id": "qAtO_wmvUVB2"
      },
      "execution_count": 71,
      "outputs": []
    },
    {
      "cell_type": "code",
      "source": [
        "evaluator_rf = MulticlassClassificationEvaluator(labelCol=\"indexedLabel\",\n",
        "                                                 predictionCol=\"prediction\",\n",
        "                                                metricName=\"accuracy\")\n",
        "numFolds = 5"
      ],
      "metadata": {
        "id": "vNwzfGH4UYzH"
      },
      "execution_count": 72,
      "outputs": []
    },
    {
      "cell_type": "code",
      "source": [
        "# Create grid of parameters\n",
        "grid_k_rf = ParamGridBuilder().addGrid(rf_k.numTrees, [5,10,25])\\\n",
        "                           .addGrid(rf_k.maxDepth, [3, 5,10,15])\\\n",
        "                           .addGrid(rf_k.maxBins, [5, 10, 20, 30])\\\n",
        "                           .build()"
      ],
      "metadata": {
        "id": "UcRqd9qsUb_2"
      },
      "execution_count": 73,
      "outputs": []
    },
    {
      "cell_type": "code",
      "source": [
        "# Create pipeline of transformers and estimators\n",
        "pipeline_rf = Pipeline(stages=[labelIndexer, \n",
        "                               featureIndexer,\n",
        "                               rf_k,\n",
        "                               labelConverter])"
      ],
      "metadata": {
        "id": "4cr85usYUfav"
      },
      "execution_count": 74,
      "outputs": []
    },
    {
      "cell_type": "code",
      "source": [
        "# Treat pipeline as estimator in a CrossValidator instance.\n",
        "cv_rf = CrossValidator(estimator = pipeline_rf, \n",
        "                       estimatorParamMaps = grid_k_rf, \n",
        "                       evaluator = evaluator_rf, \n",
        "                       numFolds = numFolds)"
      ],
      "metadata": {
        "id": "BTtXwraNUjk-"
      },
      "execution_count": 75,
      "outputs": []
    },
    {
      "cell_type": "code",
      "source": [
        "# Run cross-validation\n",
        "cvmodel_rf = cv_rf.fit(train_cv)"
      ],
      "metadata": {
        "id": "aGqfeOTjUmYP"
      },
      "execution_count": 76,
      "outputs": []
    },
    {
      "cell_type": "code",
      "source": [
        "# Evaluate tuned model on training data\n",
        "predictions_rf_train = cvmodel_rf.transform(train_cv)\n",
        "evaluator_rf.evaluate(predictions_rf_train)"
      ],
      "metadata": {
        "colab": {
          "base_uri": "https://localhost:8080/"
        },
        "id": "mzffuv1QUp_f",
        "outputId": "4c78b955-360f-4bd1-b7f9-efcb461be048"
      },
      "execution_count": 77,
      "outputs": [
        {
          "output_type": "execute_result",
          "data": {
            "text/plain": [
              "0.7105459985041137"
            ]
          },
          "metadata": {},
          "execution_count": 77
        }
      ]
    },
    {
      "cell_type": "code",
      "source": [
        "# Evaluate tuned model on test data\n",
        "predictions_rf = cvmodel_rf.transform(test_cv)"
      ],
      "metadata": {
        "id": "oAN6rpBxWMKi"
      },
      "execution_count": 78,
      "outputs": []
    },
    {
      "cell_type": "code",
      "source": [
        "predictions_rf.select(\"predictedLabel\", \"label\", \"features\").show(5)"
      ],
      "metadata": {
        "colab": {
          "base_uri": "https://localhost:8080/"
        },
        "id": "uNfANFv5WNKU",
        "outputId": "f3ec101b-e999-4b4f-ffe6-b8f776058f8e"
      },
      "execution_count": 79,
      "outputs": [
        {
          "output_type": "stream",
          "name": "stdout",
          "text": [
            "+--------------+-----+--------------------+\n",
            "|predictedLabel|label|            features|\n",
            "+--------------+-----+--------------------+\n",
            "|           0.0|  0.0|(12,[2,7,8,9,10,1...|\n",
            "|           0.0|  0.0|(12,[2,7,8,9,10,1...|\n",
            "|           0.0|  0.0|(12,[2,7,8,9,10,1...|\n",
            "|           0.0|  0.0|(12,[2,7,8,9,10,1...|\n",
            "|           0.0|  0.0|(12,[2,7,8,9,10,1...|\n",
            "+--------------+-----+--------------------+\n",
            "only showing top 5 rows\n",
            "\n"
          ]
        }
      ]
    },
    {
      "cell_type": "code",
      "source": [
        "evaluator_rf.evaluate(predictions_rf)"
      ],
      "metadata": {
        "colab": {
          "base_uri": "https://localhost:8080/"
        },
        "id": "cHFX24ufWW3p",
        "outputId": "438f9a70-b1a4-4a6c-b7bd-94fecd0de21f"
      },
      "execution_count": 80,
      "outputs": [
        {
          "output_type": "execute_result",
          "data": {
            "text/plain": [
              "0.5565217391304348"
            ]
          },
          "metadata": {},
          "execution_count": 80
        }
      ]
    },
    {
      "cell_type": "code",
      "source": [
        "results = pd.DataFrame(data={'Logistic Regression': [0.5898583146905294,0.6129032258064516],\n",
        "                             'Random Forests': [0.6167039522744221,0.5513196480938416],\n",
        "                             },\n",
        "                       index={'Training Accuracy',\n",
        "                              'Test Accuracy'})\n",
        "results"
      ],
      "metadata": {
        "colab": {
          "base_uri": "https://localhost:8080/",
          "height": 112
        },
        "id": "dtRlLMFdXcdA",
        "outputId": "8b4e4097-36af-4d3c-9906-018d29da82a6"
      },
      "execution_count": 85,
      "outputs": [
        {
          "output_type": "execute_result",
          "data": {
            "text/html": [
              "\n",
              "  <div id=\"df-65ab9492-78ac-4ca4-8c9e-3f3103a4be37\">\n",
              "    <div class=\"colab-df-container\">\n",
              "      <div>\n",
              "<style scoped>\n",
              "    .dataframe tbody tr th:only-of-type {\n",
              "        vertical-align: middle;\n",
              "    }\n",
              "\n",
              "    .dataframe tbody tr th {\n",
              "        vertical-align: top;\n",
              "    }\n",
              "\n",
              "    .dataframe thead th {\n",
              "        text-align: right;\n",
              "    }\n",
              "</style>\n",
              "<table border=\"1\" class=\"dataframe\">\n",
              "  <thead>\n",
              "    <tr style=\"text-align: right;\">\n",
              "      <th></th>\n",
              "      <th>Logistic Regression</th>\n",
              "      <th>Random Forests</th>\n",
              "    </tr>\n",
              "  </thead>\n",
              "  <tbody>\n",
              "    <tr>\n",
              "      <th>Training Accuracy</th>\n",
              "      <td>0.589858</td>\n",
              "      <td>0.616704</td>\n",
              "    </tr>\n",
              "    <tr>\n",
              "      <th>Test Accuracy</th>\n",
              "      <td>0.612903</td>\n",
              "      <td>0.551320</td>\n",
              "    </tr>\n",
              "  </tbody>\n",
              "</table>\n",
              "</div>\n",
              "      <button class=\"colab-df-convert\" onclick=\"convertToInteractive('df-65ab9492-78ac-4ca4-8c9e-3f3103a4be37')\"\n",
              "              title=\"Convert this dataframe to an interactive table.\"\n",
              "              style=\"display:none;\">\n",
              "        \n",
              "  <svg xmlns=\"http://www.w3.org/2000/svg\" height=\"24px\"viewBox=\"0 0 24 24\"\n",
              "       width=\"24px\">\n",
              "    <path d=\"M0 0h24v24H0V0z\" fill=\"none\"/>\n",
              "    <path d=\"M18.56 5.44l.94 2.06.94-2.06 2.06-.94-2.06-.94-.94-2.06-.94 2.06-2.06.94zm-11 1L8.5 8.5l.94-2.06 2.06-.94-2.06-.94L8.5 2.5l-.94 2.06-2.06.94zm10 10l.94 2.06.94-2.06 2.06-.94-2.06-.94-.94-2.06-.94 2.06-2.06.94z\"/><path d=\"M17.41 7.96l-1.37-1.37c-.4-.4-.92-.59-1.43-.59-.52 0-1.04.2-1.43.59L10.3 9.45l-7.72 7.72c-.78.78-.78 2.05 0 2.83L4 21.41c.39.39.9.59 1.41.59.51 0 1.02-.2 1.41-.59l7.78-7.78 2.81-2.81c.8-.78.8-2.07 0-2.86zM5.41 20L4 18.59l7.72-7.72 1.47 1.35L5.41 20z\"/>\n",
              "  </svg>\n",
              "      </button>\n",
              "      \n",
              "  <style>\n",
              "    .colab-df-container {\n",
              "      display:flex;\n",
              "      flex-wrap:wrap;\n",
              "      gap: 12px;\n",
              "    }\n",
              "\n",
              "    .colab-df-convert {\n",
              "      background-color: #E8F0FE;\n",
              "      border: none;\n",
              "      border-radius: 50%;\n",
              "      cursor: pointer;\n",
              "      display: none;\n",
              "      fill: #1967D2;\n",
              "      height: 32px;\n",
              "      padding: 0 0 0 0;\n",
              "      width: 32px;\n",
              "    }\n",
              "\n",
              "    .colab-df-convert:hover {\n",
              "      background-color: #E2EBFA;\n",
              "      box-shadow: 0px 1px 2px rgba(60, 64, 67, 0.3), 0px 1px 3px 1px rgba(60, 64, 67, 0.15);\n",
              "      fill: #174EA6;\n",
              "    }\n",
              "\n",
              "    [theme=dark] .colab-df-convert {\n",
              "      background-color: #3B4455;\n",
              "      fill: #D2E3FC;\n",
              "    }\n",
              "\n",
              "    [theme=dark] .colab-df-convert:hover {\n",
              "      background-color: #434B5C;\n",
              "      box-shadow: 0px 1px 3px 1px rgba(0, 0, 0, 0.15);\n",
              "      filter: drop-shadow(0px 1px 2px rgba(0, 0, 0, 0.3));\n",
              "      fill: #FFFFFF;\n",
              "    }\n",
              "  </style>\n",
              "\n",
              "      <script>\n",
              "        const buttonEl =\n",
              "          document.querySelector('#df-65ab9492-78ac-4ca4-8c9e-3f3103a4be37 button.colab-df-convert');\n",
              "        buttonEl.style.display =\n",
              "          google.colab.kernel.accessAllowed ? 'block' : 'none';\n",
              "\n",
              "        async function convertToInteractive(key) {\n",
              "          const element = document.querySelector('#df-65ab9492-78ac-4ca4-8c9e-3f3103a4be37');\n",
              "          const dataTable =\n",
              "            await google.colab.kernel.invokeFunction('convertToInteractive',\n",
              "                                                     [key], {});\n",
              "          if (!dataTable) return;\n",
              "\n",
              "          const docLinkHtml = 'Like what you see? Visit the ' +\n",
              "            '<a target=\"_blank\" href=https://colab.research.google.com/notebooks/data_table.ipynb>data table notebook</a>'\n",
              "            + ' to learn more about interactive tables.';\n",
              "          element.innerHTML = '';\n",
              "          dataTable['output_type'] = 'display_data';\n",
              "          await google.colab.output.renderOutput(dataTable, element);\n",
              "          const docLink = document.createElement('div');\n",
              "          docLink.innerHTML = docLinkHtml;\n",
              "          element.appendChild(docLink);\n",
              "        }\n",
              "      </script>\n",
              "    </div>\n",
              "  </div>\n",
              "  "
            ],
            "text/plain": [
              "                   Logistic Regression  Random Forests\n",
              "Training Accuracy             0.589858        0.616704\n",
              "Test Accuracy                 0.612903        0.551320"
            ]
          },
          "metadata": {},
          "execution_count": 85
        }
      ]
    },
    {
      "cell_type": "code",
      "source": [
        "results_kfold = pd.DataFrame(data={'Logistic Regression': [0.6401754040204967,0.6146659497244257],\n",
        "                             'Random Forests': [0.7105459985041137,0.5565217391304348],\n",
        "                             },\n",
        "                       index={'Training Accuracy',\n",
        "                              'Test Accuracy'})\n",
        "results_kfold"
      ],
      "metadata": {
        "colab": {
          "base_uri": "https://localhost:8080/",
          "height": 112
        },
        "id": "-Be_3oqnX_FW",
        "outputId": "3ebbc697-ac02-4b26-cfc6-bafcf1c30906"
      },
      "execution_count": 86,
      "outputs": [
        {
          "output_type": "execute_result",
          "data": {
            "text/html": [
              "\n",
              "  <div id=\"df-12158b59-c871-403f-ab3d-f2936790f5ae\">\n",
              "    <div class=\"colab-df-container\">\n",
              "      <div>\n",
              "<style scoped>\n",
              "    .dataframe tbody tr th:only-of-type {\n",
              "        vertical-align: middle;\n",
              "    }\n",
              "\n",
              "    .dataframe tbody tr th {\n",
              "        vertical-align: top;\n",
              "    }\n",
              "\n",
              "    .dataframe thead th {\n",
              "        text-align: right;\n",
              "    }\n",
              "</style>\n",
              "<table border=\"1\" class=\"dataframe\">\n",
              "  <thead>\n",
              "    <tr style=\"text-align: right;\">\n",
              "      <th></th>\n",
              "      <th>Logistic Regression</th>\n",
              "      <th>Random Forests</th>\n",
              "    </tr>\n",
              "  </thead>\n",
              "  <tbody>\n",
              "    <tr>\n",
              "      <th>Training Accuracy</th>\n",
              "      <td>0.640175</td>\n",
              "      <td>0.710546</td>\n",
              "    </tr>\n",
              "    <tr>\n",
              "      <th>Test Accuracy</th>\n",
              "      <td>0.614666</td>\n",
              "      <td>0.556522</td>\n",
              "    </tr>\n",
              "  </tbody>\n",
              "</table>\n",
              "</div>\n",
              "      <button class=\"colab-df-convert\" onclick=\"convertToInteractive('df-12158b59-c871-403f-ab3d-f2936790f5ae')\"\n",
              "              title=\"Convert this dataframe to an interactive table.\"\n",
              "              style=\"display:none;\">\n",
              "        \n",
              "  <svg xmlns=\"http://www.w3.org/2000/svg\" height=\"24px\"viewBox=\"0 0 24 24\"\n",
              "       width=\"24px\">\n",
              "    <path d=\"M0 0h24v24H0V0z\" fill=\"none\"/>\n",
              "    <path d=\"M18.56 5.44l.94 2.06.94-2.06 2.06-.94-2.06-.94-.94-2.06-.94 2.06-2.06.94zm-11 1L8.5 8.5l.94-2.06 2.06-.94-2.06-.94L8.5 2.5l-.94 2.06-2.06.94zm10 10l.94 2.06.94-2.06 2.06-.94-2.06-.94-.94-2.06-.94 2.06-2.06.94z\"/><path d=\"M17.41 7.96l-1.37-1.37c-.4-.4-.92-.59-1.43-.59-.52 0-1.04.2-1.43.59L10.3 9.45l-7.72 7.72c-.78.78-.78 2.05 0 2.83L4 21.41c.39.39.9.59 1.41.59.51 0 1.02-.2 1.41-.59l7.78-7.78 2.81-2.81c.8-.78.8-2.07 0-2.86zM5.41 20L4 18.59l7.72-7.72 1.47 1.35L5.41 20z\"/>\n",
              "  </svg>\n",
              "      </button>\n",
              "      \n",
              "  <style>\n",
              "    .colab-df-container {\n",
              "      display:flex;\n",
              "      flex-wrap:wrap;\n",
              "      gap: 12px;\n",
              "    }\n",
              "\n",
              "    .colab-df-convert {\n",
              "      background-color: #E8F0FE;\n",
              "      border: none;\n",
              "      border-radius: 50%;\n",
              "      cursor: pointer;\n",
              "      display: none;\n",
              "      fill: #1967D2;\n",
              "      height: 32px;\n",
              "      padding: 0 0 0 0;\n",
              "      width: 32px;\n",
              "    }\n",
              "\n",
              "    .colab-df-convert:hover {\n",
              "      background-color: #E2EBFA;\n",
              "      box-shadow: 0px 1px 2px rgba(60, 64, 67, 0.3), 0px 1px 3px 1px rgba(60, 64, 67, 0.15);\n",
              "      fill: #174EA6;\n",
              "    }\n",
              "\n",
              "    [theme=dark] .colab-df-convert {\n",
              "      background-color: #3B4455;\n",
              "      fill: #D2E3FC;\n",
              "    }\n",
              "\n",
              "    [theme=dark] .colab-df-convert:hover {\n",
              "      background-color: #434B5C;\n",
              "      box-shadow: 0px 1px 3px 1px rgba(0, 0, 0, 0.15);\n",
              "      filter: drop-shadow(0px 1px 2px rgba(0, 0, 0, 0.3));\n",
              "      fill: #FFFFFF;\n",
              "    }\n",
              "  </style>\n",
              "\n",
              "      <script>\n",
              "        const buttonEl =\n",
              "          document.querySelector('#df-12158b59-c871-403f-ab3d-f2936790f5ae button.colab-df-convert');\n",
              "        buttonEl.style.display =\n",
              "          google.colab.kernel.accessAllowed ? 'block' : 'none';\n",
              "\n",
              "        async function convertToInteractive(key) {\n",
              "          const element = document.querySelector('#df-12158b59-c871-403f-ab3d-f2936790f5ae');\n",
              "          const dataTable =\n",
              "            await google.colab.kernel.invokeFunction('convertToInteractive',\n",
              "                                                     [key], {});\n",
              "          if (!dataTable) return;\n",
              "\n",
              "          const docLinkHtml = 'Like what you see? Visit the ' +\n",
              "            '<a target=\"_blank\" href=https://colab.research.google.com/notebooks/data_table.ipynb>data table notebook</a>'\n",
              "            + ' to learn more about interactive tables.';\n",
              "          element.innerHTML = '';\n",
              "          dataTable['output_type'] = 'display_data';\n",
              "          await google.colab.output.renderOutput(dataTable, element);\n",
              "          const docLink = document.createElement('div');\n",
              "          docLink.innerHTML = docLinkHtml;\n",
              "          element.appendChild(docLink);\n",
              "        }\n",
              "      </script>\n",
              "    </div>\n",
              "  </div>\n",
              "  "
            ],
            "text/plain": [
              "                   Logistic Regression  Random Forests\n",
              "Training Accuracy             0.640175        0.710546\n",
              "Test Accuracy                 0.614666        0.556522"
            ]
          },
          "metadata": {},
          "execution_count": 86
        }
      ]
    }
  ]
}